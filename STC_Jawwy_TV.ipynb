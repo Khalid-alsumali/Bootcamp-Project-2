{
 "cells": [
  {
   "attachments": {},
   "cell_type": "markdown",
   "metadata": {},
   "source": [
    "### Libraries"
   ]
  },
  {
   "cell_type": "code",
   "execution_count": 12,
   "metadata": {},
   "outputs": [],
   "source": [
    "from datetime import datetime\n",
    "import time\n",
    "import pandas as pd\n",
    "import matplotlib.pyplot as plt"
   ]
  },
  {
   "attachments": {},
   "cell_type": "markdown",
   "metadata": {},
   "source": [
    "### Welcome Messege"
   ]
  },
  {
   "cell_type": "code",
   "execution_count": 13,
   "metadata": {},
   "outputs": [
    {
     "name": "stdout",
     "output_type": "stream",
     "text": [
      "\n",
      "Hello! Let's explore some STC JAWWY TV data!\n",
      "\n"
     ]
    }
   ],
   "source": [
    "print('\\nHello! Let\\'s explore some STC JAWWY TV data!\\n')"
   ]
  },
  {
   "attachments": {},
   "cell_type": "markdown",
   "metadata": {},
   "source": [
    "### Loading Data"
   ]
  },
  {
   "cell_type": "code",
   "execution_count": 14,
   "metadata": {},
   "outputs": [],
   "source": [
    "# load data file into a dataframe\n",
    "df = pd.read_csv('STC_Jawwy_TV.csv')"
   ]
  },
  {
   "attachments": {},
   "cell_type": "markdown",
   "metadata": {},
   "source": [
    "### Drop Columns"
   ]
  },
  {
   "cell_type": "code",
   "execution_count": 15,
   "metadata": {},
   "outputs": [],
   "source": [
    "df.drop(['Column1', 'program_desc', 'original_name'], axis = 1, inplace = True)"
   ]
  },
  {
   "attachments": {},
   "cell_type": "markdown",
   "metadata": {},
   "source": [
    "### Duplicates"
   ]
  },
  {
   "cell_type": "code",
   "execution_count": 22,
   "metadata": {},
   "outputs": [
    {
     "data": {
      "text/plain": [
       "(946192, 10)"
      ]
     },
     "execution_count": 22,
     "metadata": {},
     "output_type": "execute_result"
    }
   ],
   "source": [
    "df.duplicated\n",
    "df = df.drop_duplicates()\n",
    "df.shape"
   ]
  },
  {
   "attachments": {},
   "cell_type": "markdown",
   "metadata": {},
   "source": [
    "### Rename Columns"
   ]
  },
  {
   "cell_type": "code",
   "execution_count": 16,
   "metadata": {},
   "outputs": [],
   "source": [
    "df = df.rename(columns={\"date_\":\"Date\",\"user_id_maped\":\"User ID\",\"program_name\":\"Program Name\",\"duration_seconds\":\"Duration Seconds\",\"program_class\":\"Type\",\n",
    "\"season\":\"Season\",\"episode\":\"Episode\",\"program_genre\":\"Genre\",\"series_title\":\"Series Title\",\"hd\":\"HD\"})"
   ]
  },
  {
   "attachments": {},
   "cell_type": "markdown",
   "metadata": {},
   "source": [
    "### Set Time"
   ]
  },
  {
   "cell_type": "code",
   "execution_count": 17,
   "metadata": {},
   "outputs": [
    {
     "data": {
      "text/html": [
       "<div>\n",
       "<style scoped>\n",
       "    .dataframe tbody tr th:only-of-type {\n",
       "        vertical-align: middle;\n",
       "    }\n",
       "\n",
       "    .dataframe tbody tr th {\n",
       "        vertical-align: top;\n",
       "    }\n",
       "\n",
       "    .dataframe thead th {\n",
       "        text-align: right;\n",
       "    }\n",
       "</style>\n",
       "<table border=\"1\" class=\"dataframe\">\n",
       "  <thead>\n",
       "    <tr style=\"text-align: right;\">\n",
       "      <th></th>\n",
       "      <th>Date</th>\n",
       "      <th>User ID</th>\n",
       "      <th>Program Name</th>\n",
       "      <th>Duration Seconds</th>\n",
       "      <th>Type</th>\n",
       "      <th>Season</th>\n",
       "      <th>Episode</th>\n",
       "      <th>Genre</th>\n",
       "      <th>Series Title</th>\n",
       "      <th>HD</th>\n",
       "    </tr>\n",
       "  </thead>\n",
       "  <tbody>\n",
       "    <tr>\n",
       "      <th>0</th>\n",
       "      <td>2017-05-27</td>\n",
       "      <td>26138</td>\n",
       "      <td>100 treets</td>\n",
       "      <td>40</td>\n",
       "      <td>MOVIE</td>\n",
       "      <td>0</td>\n",
       "      <td>0</td>\n",
       "      <td>Drama</td>\n",
       "      <td>0</td>\n",
       "      <td>0</td>\n",
       "    </tr>\n",
       "    <tr>\n",
       "      <th>1</th>\n",
       "      <td>2017-05-21</td>\n",
       "      <td>7946</td>\n",
       "      <td>Moana</td>\n",
       "      <td>17</td>\n",
       "      <td>MOVIE</td>\n",
       "      <td>0</td>\n",
       "      <td>0</td>\n",
       "      <td>Animation</td>\n",
       "      <td>0</td>\n",
       "      <td>1</td>\n",
       "    </tr>\n",
       "    <tr>\n",
       "      <th>2</th>\n",
       "      <td>2017-08-10</td>\n",
       "      <td>7418</td>\n",
       "      <td>The Mermaid Princess</td>\n",
       "      <td>8</td>\n",
       "      <td>MOVIE</td>\n",
       "      <td>0</td>\n",
       "      <td>0</td>\n",
       "      <td>Animation</td>\n",
       "      <td>0</td>\n",
       "      <td>1</td>\n",
       "    </tr>\n",
       "    <tr>\n",
       "      <th>3</th>\n",
       "      <td>2017-07-26</td>\n",
       "      <td>19307</td>\n",
       "      <td>The Mermaid Princess</td>\n",
       "      <td>76</td>\n",
       "      <td>MOVIE</td>\n",
       "      <td>0</td>\n",
       "      <td>0</td>\n",
       "      <td>Animation</td>\n",
       "      <td>0</td>\n",
       "      <td>1</td>\n",
       "    </tr>\n",
       "    <tr>\n",
       "      <th>4</th>\n",
       "      <td>2017-07-07</td>\n",
       "      <td>15860</td>\n",
       "      <td>Churchill</td>\n",
       "      <td>87</td>\n",
       "      <td>MOVIE</td>\n",
       "      <td>0</td>\n",
       "      <td>0</td>\n",
       "      <td>Biography</td>\n",
       "      <td>0</td>\n",
       "      <td>1</td>\n",
       "    </tr>\n",
       "  </tbody>\n",
       "</table>\n",
       "</div>"
      ],
      "text/plain": [
       "        Date  User ID           Program Name  Duration Seconds   Type  Season  \\\n",
       "0 2017-05-27    26138             100 treets                40  MOVIE       0   \n",
       "1 2017-05-21     7946                 Moana                 17  MOVIE       0   \n",
       "2 2017-08-10     7418  The Mermaid Princess                  8  MOVIE       0   \n",
       "3 2017-07-26    19307  The Mermaid Princess                 76  MOVIE       0   \n",
       "4 2017-07-07    15860             Churchill                 87  MOVIE       0   \n",
       "\n",
       "   Episode      Genre  Series Title  HD  \n",
       "0        0      Drama             0   0  \n",
       "1        0  Animation             0   1  \n",
       "2        0  Animation             0   1  \n",
       "3        0  Animation             0   1  \n",
       "4        0  Biography             0   1  "
      ]
     },
     "execution_count": 17,
     "metadata": {},
     "output_type": "execute_result"
    }
   ],
   "source": [
    "df['Date'] = df['Date'].apply(lambda val: datetime.strptime(val, \"%m/%d/%Y\"))"
   ]
  },
  {
   "attachments": {},
   "cell_type": "markdown",
   "metadata": {},
   "source": [
    "### EDA"
   ]
  },
  {
   "cell_type": "code",
   "execution_count": 20,
   "metadata": {},
   "outputs": [
    {
     "name": "stdout",
     "output_type": "stream",
     "text": [
      "        Date  User ID           Program Name  Duration Seconds   Type  Season  \\\n",
      "0 2017-05-27    26138             100 treets                40  MOVIE       0   \n",
      "1 2017-05-21     7946                 Moana                 17  MOVIE       0   \n",
      "2 2017-08-10     7418  The Mermaid Princess                  8  MOVIE       0   \n",
      "3 2017-07-26    19307  The Mermaid Princess                 76  MOVIE       0   \n",
      "4 2017-07-07    15860             Churchill                 87  MOVIE       0   \n",
      "\n",
      "   Episode      Genre  Series Title  HD  \n",
      "0        0      Drama             0   0  \n",
      "1        0  Animation             0   1  \n",
      "2        0  Animation             0   1  \n",
      "3        0  Animation             0   1  \n",
      "4        0  Biography             0   1  \n",
      "NaN Values =  0\n",
      "Shipe is  (946192, 10)\n",
      "Date                datetime64[ns]\n",
      "User ID                      int64\n",
      "Program Name                object\n",
      "Duration Seconds             int64\n",
      "Type                        object\n",
      "Season                       int64\n",
      "Episode                      int64\n",
      "Genre                       object\n",
      "Series Title                 int64\n",
      "HD                           int64\n",
      "dtype: object\n"
     ]
    },
    {
     "data": {
      "text/plain": [
       "<bound method DataFrame.duplicated of               Date  User ID                                     Program Name  \\\n",
       "0       2017-05-27    26138                                       100 treets   \n",
       "1       2017-05-21     7946                                           Moana    \n",
       "2       2017-08-10     7418                            The Mermaid Princess    \n",
       "3       2017-07-26    19307                            The Mermaid Princess    \n",
       "4       2017-07-07    15860                                       Churchill    \n",
       "...            ...      ...                                              ...   \n",
       "1048570 2017-04-22    23716                                 Extraterrestrial   \n",
       "1048571 2017-11-29     1776  Friends     The One With The Holiday Armadillo    \n",
       "1048572 2017-06-15     1918     Masters of Horror  Dreams In The Witch House   \n",
       "1048573 2017-09-11    25737                           Two Lovers and a Bear    \n",
       "1048574 2017-05-02    19844                                 American Psycho    \n",
       "\n",
       "         Duration Seconds             Type  Season  Episode      Genre  \\\n",
       "0                      40            MOVIE       0        0      Drama   \n",
       "1                      17            MOVIE       0        0  Animation   \n",
       "2                       8            MOVIE       0        0  Animation   \n",
       "3                      76            MOVIE       0        0  Animation   \n",
       "4                      87            MOVIE       0        0  Biography   \n",
       "...                   ...              ...     ...      ...        ...   \n",
       "1048570              4865            MOVIE       0        0     Horror   \n",
       "1048571              1261  SERIES/EPISODES       7       10     Comedy   \n",
       "1048572                 6  SERIES/EPISODES       1        2     Horror   \n",
       "1048573                72            MOVIE       0        0      Drama   \n",
       "1048574              2685            MOVIE       0        0      Drama   \n",
       "\n",
       "         Series Title  HD  \n",
       "0                   0   0  \n",
       "1                   0   1  \n",
       "2                   0   1  \n",
       "3                   0   1  \n",
       "4                   0   1  \n",
       "...               ...  ..  \n",
       "1048570             0   0  \n",
       "1048571             0   0  \n",
       "1048572             0   0  \n",
       "1048573             0   1  \n",
       "1048574             0   1  \n",
       "\n",
       "[946192 rows x 10 columns]>"
      ]
     },
     "execution_count": 20,
     "metadata": {},
     "output_type": "execute_result"
    }
   ],
   "source": [
    "print(df.head())\n",
    "nan_count = df.isna().sum().sum()\n",
    "print('NaN Values = ',nan_count)\n",
    "print('Shipe is ',df.shape)\n",
    "print(df.dtypes)\n",
    "df.duplicated\n"
   ]
  }
 ],
 "metadata": {
  "kernelspec": {
   "display_name": "base",
   "language": "python",
   "name": "python3"
  },
  "language_info": {
   "codemirror_mode": {
    "name": "ipython",
    "version": 3
   },
   "file_extension": ".py",
   "mimetype": "text/x-python",
   "name": "python",
   "nbconvert_exporter": "python",
   "pygments_lexer": "ipython3",
   "version": "3.9.15"
  },
  "orig_nbformat": 4,
  "vscode": {
   "interpreter": {
    "hash": "2a7afba27c518e8de91f0dcbbf52f585a98159ed07d23f137e86bc0c773efb76"
   }
  }
 },
 "nbformat": 4,
 "nbformat_minor": 2
}
