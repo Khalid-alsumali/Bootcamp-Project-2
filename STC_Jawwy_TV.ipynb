{
 "cells": [
  {
   "attachments": {},
   "cell_type": "markdown",
   "metadata": {},
   "source": [
    "### Libraries"
   ]
  },
  {
   "cell_type": "code",
   "execution_count": 286,
   "metadata": {},
   "outputs": [],
   "source": [
    "from datetime import datetime\n",
    "import time\n",
    "import pandas as pd\n",
    "import matplotlib.pyplot as plt"
   ]
  },
  {
   "attachments": {},
   "cell_type": "markdown",
   "metadata": {},
   "source": [
    "### Welcome Messege"
   ]
  },
  {
   "cell_type": "code",
   "execution_count": 287,
   "metadata": {},
   "outputs": [
    {
     "name": "stdout",
     "output_type": "stream",
     "text": [
      "\n",
      "Hello! Let's explore some STC JAWWY TV data!\n",
      "\n"
     ]
    }
   ],
   "source": [
    "print('\\nHello! Let\\'s explore some STC JAWWY TV data!\\n')"
   ]
  },
  {
   "attachments": {},
   "cell_type": "markdown",
   "metadata": {},
   "source": [
    "### Loading Data"
   ]
  },
  {
   "cell_type": "code",
   "execution_count": 288,
   "metadata": {},
   "outputs": [
    {
     "data": {
      "text/html": [
       "<div>\n",
       "<style scoped>\n",
       "    .dataframe tbody tr th:only-of-type {\n",
       "        vertical-align: middle;\n",
       "    }\n",
       "\n",
       "    .dataframe tbody tr th {\n",
       "        vertical-align: top;\n",
       "    }\n",
       "\n",
       "    .dataframe thead th {\n",
       "        text-align: right;\n",
       "    }\n",
       "</style>\n",
       "<table border=\"1\" class=\"dataframe\">\n",
       "  <thead>\n",
       "    <tr style=\"text-align: right;\">\n",
       "      <th></th>\n",
       "      <th>Column1</th>\n",
       "      <th>date_</th>\n",
       "      <th>user_id_maped</th>\n",
       "      <th>program_name</th>\n",
       "      <th>duration_seconds</th>\n",
       "      <th>program_class</th>\n",
       "      <th>season</th>\n",
       "      <th>episode</th>\n",
       "      <th>program_desc</th>\n",
       "      <th>program_genre</th>\n",
       "      <th>series_title</th>\n",
       "      <th>hd</th>\n",
       "      <th>original_name</th>\n",
       "    </tr>\n",
       "  </thead>\n",
       "  <tbody>\n",
       "    <tr>\n",
       "      <th>0</th>\n",
       "      <td>1</td>\n",
       "      <td>5/27/2017</td>\n",
       "      <td>26138</td>\n",
       "      <td>100 treets</td>\n",
       "      <td>40</td>\n",
       "      <td>MOVIE</td>\n",
       "      <td>0</td>\n",
       "      <td>0</td>\n",
       "      <td>Drama Movie100 Streets</td>\n",
       "      <td>Drama</td>\n",
       "      <td>0</td>\n",
       "      <td>0</td>\n",
       "      <td>100 treets</td>\n",
       "    </tr>\n",
       "    <tr>\n",
       "      <th>1</th>\n",
       "      <td>3</td>\n",
       "      <td>5/21/2017</td>\n",
       "      <td>7946</td>\n",
       "      <td>Moana</td>\n",
       "      <td>17</td>\n",
       "      <td>MOVIE</td>\n",
       "      <td>0</td>\n",
       "      <td>0</td>\n",
       "      <td>Animation MovieMoana (HD)</td>\n",
       "      <td>Animation</td>\n",
       "      <td>0</td>\n",
       "      <td>1</td>\n",
       "      <td>Moana</td>\n",
       "    </tr>\n",
       "    <tr>\n",
       "      <th>2</th>\n",
       "      <td>4</td>\n",
       "      <td>8/10/2017</td>\n",
       "      <td>7418</td>\n",
       "      <td>The Mermaid Princess</td>\n",
       "      <td>8</td>\n",
       "      <td>MOVIE</td>\n",
       "      <td>0</td>\n",
       "      <td>0</td>\n",
       "      <td>Animation MovieThe Mermaid Princess (HD)</td>\n",
       "      <td>Animation</td>\n",
       "      <td>0</td>\n",
       "      <td>1</td>\n",
       "      <td>The Mermaid Princess</td>\n",
       "    </tr>\n",
       "    <tr>\n",
       "      <th>3</th>\n",
       "      <td>5</td>\n",
       "      <td>7/26/2017</td>\n",
       "      <td>19307</td>\n",
       "      <td>The Mermaid Princess</td>\n",
       "      <td>76</td>\n",
       "      <td>MOVIE</td>\n",
       "      <td>0</td>\n",
       "      <td>0</td>\n",
       "      <td>Animation MovieThe Mermaid Princess (HD)</td>\n",
       "      <td>Animation</td>\n",
       "      <td>0</td>\n",
       "      <td>1</td>\n",
       "      <td>The Mermaid Princess</td>\n",
       "    </tr>\n",
       "    <tr>\n",
       "      <th>4</th>\n",
       "      <td>7</td>\n",
       "      <td>7/7/2017</td>\n",
       "      <td>15860</td>\n",
       "      <td>Churchill</td>\n",
       "      <td>87</td>\n",
       "      <td>MOVIE</td>\n",
       "      <td>0</td>\n",
       "      <td>0</td>\n",
       "      <td>Biography MovieChurchill (HD)</td>\n",
       "      <td>Biography</td>\n",
       "      <td>0</td>\n",
       "      <td>1</td>\n",
       "      <td>Churchill</td>\n",
       "    </tr>\n",
       "  </tbody>\n",
       "</table>\n",
       "</div>"
      ],
      "text/plain": [
       "   Column1      date_  user_id_maped           program_name  duration_seconds  \\\n",
       "0        1  5/27/2017          26138             100 treets                40   \n",
       "1        3  5/21/2017           7946                 Moana                 17   \n",
       "2        4  8/10/2017           7418  The Mermaid Princess                  8   \n",
       "3        5  7/26/2017          19307  The Mermaid Princess                 76   \n",
       "4        7   7/7/2017          15860             Churchill                 87   \n",
       "\n",
       "  program_class  season  episode                              program_desc  \\\n",
       "0         MOVIE       0        0                    Drama Movie100 Streets   \n",
       "1         MOVIE       0        0                 Animation MovieMoana (HD)   \n",
       "2         MOVIE       0        0  Animation MovieThe Mermaid Princess (HD)   \n",
       "3         MOVIE       0        0  Animation MovieThe Mermaid Princess (HD)   \n",
       "4         MOVIE       0        0             Biography MovieChurchill (HD)   \n",
       "\n",
       "  program_genre  series_title  hd         original_name  \n",
       "0         Drama             0   0            100 treets  \n",
       "1     Animation             0   1                 Moana  \n",
       "2     Animation             0   1  The Mermaid Princess  \n",
       "3     Animation             0   1  The Mermaid Princess  \n",
       "4     Biography             0   1             Churchill  "
      ]
     },
     "execution_count": 288,
     "metadata": {},
     "output_type": "execute_result"
    }
   ],
   "source": [
    "# load data file into a dataframe\n",
    "df = pd.read_csv('STC_Jawwy_TV.csv', skipinitialspace=True)\n",
    "df.head()"
   ]
  },
  {
   "attachments": {},
   "cell_type": "markdown",
   "metadata": {},
   "source": [
    "### Drop Columns"
   ]
  },
  {
   "cell_type": "code",
   "execution_count": 289,
   "metadata": {},
   "outputs": [],
   "source": [
    "df.drop(['Column1', 'program_name', 'program_desc'], axis = 1, inplace = True)"
   ]
  },
  {
   "attachments": {},
   "cell_type": "markdown",
   "metadata": {},
   "source": [
    "### Duplicates"
   ]
  },
  {
   "cell_type": "code",
   "execution_count": 290,
   "metadata": {},
   "outputs": [
    {
     "data": {
      "text/plain": [
       "(946192, 10)"
      ]
     },
     "execution_count": 290,
     "metadata": {},
     "output_type": "execute_result"
    }
   ],
   "source": [
    "df.duplicated\n",
    "df = df.drop_duplicates()\n",
    "df.shape"
   ]
  },
  {
   "attachments": {},
   "cell_type": "markdown",
   "metadata": {},
   "source": [
    "### Rename Columns"
   ]
  },
  {
   "cell_type": "code",
   "execution_count": 291,
   "metadata": {},
   "outputs": [],
   "source": [
    "df = df.rename(columns={\"date_\":\"Date\",\"user_id_maped\":\"User ID\",\"program_name\":\"Program Name\",\"duration_seconds\":\"Duration Seconds\",\"program_class\":\"Type\",\n",
    "\"season\":\"Season\",\"episode\":\"Episode\",\"program_genre\":\"Genre\",\"series_title\":\"Series Title\",\"hd\":\"HD\",\"original_name\":\"Name\"})"
   ]
  },
  {
   "cell_type": "markdown",
   "metadata": {},
   "source": []
  },
  {
   "attachments": {},
   "cell_type": "markdown",
   "metadata": {},
   "source": [
    "### Set Time"
   ]
  },
  {
   "cell_type": "code",
   "execution_count": 292,
   "metadata": {},
   "outputs": [],
   "source": [
    "df['Date'] = df['Date'].apply(lambda val: datetime.strptime(val, \"%m/%d/%Y\"))"
   ]
  },
  {
   "attachments": {},
   "cell_type": "markdown",
   "metadata": {},
   "source": [
    "### EDA"
   ]
  },
  {
   "cell_type": "code",
   "execution_count": 293,
   "metadata": {},
   "outputs": [
    {
     "name": "stdout",
     "output_type": "stream",
     "text": [
      "        Date  User ID  Duration Seconds   Type  Season  Episode      Genre  \\\n",
      "0 2017-05-27    26138                40  MOVIE       0        0      Drama   \n",
      "1 2017-05-21     7946                17  MOVIE       0        0  Animation   \n",
      "2 2017-08-10     7418                 8  MOVIE       0        0  Animation   \n",
      "3 2017-07-26    19307                76  MOVIE       0        0  Animation   \n",
      "4 2017-07-07    15860                87  MOVIE       0        0  Biography   \n",
      "\n",
      "   Series Title  HD                  Name  \n",
      "0             0   0            100 treets  \n",
      "1             0   1                 Moana  \n",
      "2             0   1  The Mermaid Princess  \n",
      "3             0   1  The Mermaid Princess  \n",
      "4             0   1             Churchill  \n",
      "NaN Values =  0\n",
      "Shipe is  (946192, 10)\n",
      "Date                datetime64[ns]\n",
      "User ID                      int64\n",
      "Duration Seconds             int64\n",
      "Type                        object\n",
      "Season                       int64\n",
      "Episode                      int64\n",
      "Genre                       object\n",
      "Series Title                 int64\n",
      "HD                           int64\n",
      "Name                        object\n",
      "dtype: object\n"
     ]
    },
    {
     "data": {
      "text/plain": [
       "<bound method DataFrame.duplicated of               Date  User ID  Duration Seconds             Type  Season  \\\n",
       "0       2017-05-27    26138                40            MOVIE       0   \n",
       "1       2017-05-21     7946                17            MOVIE       0   \n",
       "2       2017-08-10     7418                 8            MOVIE       0   \n",
       "3       2017-07-26    19307                76            MOVIE       0   \n",
       "4       2017-07-07    15860                87            MOVIE       0   \n",
       "...            ...      ...               ...              ...     ...   \n",
       "1048570 2017-04-22    23716              4865            MOVIE       0   \n",
       "1048571 2017-11-29     1776              1261  SERIES/EPISODES       7   \n",
       "1048572 2017-06-15     1918                 6  SERIES/EPISODES       1   \n",
       "1048573 2017-09-11    25737                72            MOVIE       0   \n",
       "1048574 2017-05-02    19844              2685            MOVIE       0   \n",
       "\n",
       "         Episode      Genre  Series Title  HD                   Name  \n",
       "0              0      Drama             0   0             100 treets  \n",
       "1              0  Animation             0   1                  Moana  \n",
       "2              0  Animation             0   1   The Mermaid Princess  \n",
       "3              0  Animation             0   1   The Mermaid Princess  \n",
       "4              0  Biography             0   1              Churchill  \n",
       "...          ...        ...           ...  ..                    ...  \n",
       "1048570        0     Horror             0   0       Extraterrestrial  \n",
       "1048571       10     Comedy             0   0              Friends    \n",
       "1048572        2     Horror             0   0    Masters of Horror    \n",
       "1048573        0      Drama             0   1  Two Lovers and a Bear  \n",
       "1048574        0      Drama             0   1        American Psycho  \n",
       "\n",
       "[946192 rows x 10 columns]>"
      ]
     },
     "execution_count": 293,
     "metadata": {},
     "output_type": "execute_result"
    }
   ],
   "source": [
    "print(df.head())\n",
    "nan_count = df.isna().sum().sum()\n",
    "print('NaN Values = ',nan_count)\n",
    "print('Shipe is ',df.shape)\n",
    "print(df.dtypes)\n",
    "df.duplicated\n"
   ]
  },
  {
   "attachments": {},
   "cell_type": "markdown",
   "metadata": {},
   "source": [
    "## Top 5 TV Shows Genre in Number of Content "
   ]
  },
  {
   "cell_type": "code",
   "execution_count": 294,
   "metadata": {},
   "outputs": [
    {
     "data": {
      "text/html": [
       "<div>\n",
       "<style scoped>\n",
       "    .dataframe tbody tr th:only-of-type {\n",
       "        vertical-align: middle;\n",
       "    }\n",
       "\n",
       "    .dataframe tbody tr th {\n",
       "        vertical-align: top;\n",
       "    }\n",
       "\n",
       "    .dataframe thead th {\n",
       "        text-align: right;\n",
       "    }\n",
       "</style>\n",
       "<table border=\"1\" class=\"dataframe\">\n",
       "  <thead>\n",
       "    <tr style=\"text-align: right;\">\n",
       "      <th></th>\n",
       "      <th>Genre</th>\n",
       "      <th>count</th>\n",
       "    </tr>\n",
       "  </thead>\n",
       "  <tbody>\n",
       "    <tr>\n",
       "      <th>2</th>\n",
       "      <td>Animation</td>\n",
       "      <td>248225</td>\n",
       "    </tr>\n",
       "    <tr>\n",
       "      <th>7</th>\n",
       "      <td>Drama</td>\n",
       "      <td>103280</td>\n",
       "    </tr>\n",
       "    <tr>\n",
       "      <th>4</th>\n",
       "      <td>Comedy</td>\n",
       "      <td>67132</td>\n",
       "    </tr>\n",
       "    <tr>\n",
       "      <th>0</th>\n",
       "      <td>Action</td>\n",
       "      <td>61727</td>\n",
       "    </tr>\n",
       "    <tr>\n",
       "      <th>9</th>\n",
       "      <td>Horror</td>\n",
       "      <td>34881</td>\n",
       "    </tr>\n",
       "  </tbody>\n",
       "</table>\n",
       "</div>"
      ],
      "text/plain": [
       "       Genre   count\n",
       "2  Animation  248225\n",
       "7      Drama  103280\n",
       "4     Comedy   67132\n",
       "0     Action   61727\n",
       "9     Horror   34881"
      ]
     },
     "execution_count": 294,
     "metadata": {},
     "output_type": "execute_result"
    }
   ],
   "source": [
    "cat_5 = df.groupby('Genre')['Type'].apply(lambda x: (x=='SERIES/EPISODES').sum()).reset_index(name='count')\n",
    "cat_5 = cat_5.sort_values(by='count', ascending=False)\n",
    "cat_5.head(5)\n",
    "\n"
   ]
  },
  {
   "cell_type": "code",
   "execution_count": 295,
   "metadata": {},
   "outputs": [
    {
     "data": {
      "image/png": "[encoded data removed]",
      "text/plain": [
       "<Figure size 640x480 with 1 Axes>"
      ]
     },
     "metadata": {},
     "output_type": "display_data"
    }
   ],
   "source": [
    "Genre = ['Animation', 'Drama', 'Comedy', 'Action', 'Horror']\n",
    "count  = [248225, 103280, 67132, 61727, 34881]\n",
    "colors = ['orange','blue']\n",
    "\n",
    "plt.bar(Genre, count, color= colors)\n",
    "plt.title('Top 5 TV Shows Genre in Number of Content',fontsize = 15)\n",
    "plt.xlabel('Movies',fontsize = 15)\n",
    "plt.ylabel('# Content',fontsize = 15)\n",
    "\n",
    "plt.show()"
   ]
  },
  {
   "attachments": {},
   "cell_type": "markdown",
   "metadata": {},
   "source": [
    "### Top 5 Most Watched TV Shows Seasons"
   ]
  },
  {
   "cell_type": "code",
   "execution_count": 309,
   "metadata": {},
   "outputs": [
    {
     "data": {
      "image/png": "[encoded data removed]",
      "text/plain": [
       "<Figure size 640x480 with 1 Axes>"
      ]
     },
     "metadata": {},
     "output_type": "display_data"
    }
   ],
   "source": [
    "#[(df['Type'] == 'SERIES/EPISODES')]\n",
    "\n",
    "tv_show = df.groupby(['Name','Season'])['Duration Seconds'].sum().sort_values(ascending=False)\n",
    "tv_show.head(5)\n",
    "\n",
    "\n",
    "\n",
    "Name = ['PAW Patrol s.1','Blaze And The Monster Machines s.1','Blindspot.s.1','SpongeBob quarePants s.7','Dora the Explorer s.7']\n",
    "sizes = [ 32217715,20368166,17140859,16043246,14276717]\n",
    "colors = ['RED','ORANGE','YELLOW','GREEN', 'BLUE']\n",
    "plt.title('Top 5 Most Watched TV Shows Seasons',fontsize = 15)\n",
    "plt.pie(sizes,labels=Name, autopct='%1.2f%%', colors =colors,  startangle=180, radius=1)\n",
    "\n",
    "plt.show()\n",
    "\n"
   ]
  }
 ],
 "metadata": {
  "kernelspec": {
   "display_name": "base",
   "language": "python",
   "name": "python3"
  },
  "language_info": {
   "codemirror_mode": {
    "name": "ipython",
    "version": 3
   },
   "file_extension": ".py",
   "mimetype": "text/x-python",
   "name": "python",
   "nbconvert_exporter": "python",
   "pygments_lexer": "ipython3",
   "version": "3.9.15"
  },
  "orig_nbformat": 4,
  "vscode": {
   "interpreter": {
    "hash": "2a7afba27c518e8de91f0dcbbf52f585a98159ed07d23f137e86bc0c773efb76"
   }
  }
 },
 "nbformat": 4,
 "nbformat_minor": 2
}
