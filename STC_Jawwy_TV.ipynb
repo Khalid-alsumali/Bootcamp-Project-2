{
 "cells": [
  {
   "attachments": {},
   "cell_type": "markdown",
   "metadata": {},
   "source": [
    "### Libraries"
   ]
  },
  {
   "cell_type": "code",
   "execution_count": 95,
   "metadata": {},
   "outputs": [],
   "source": [
    "import time\n",
    "import numpy as np\n",
    "import pandas as pd\n",
    "import matplotlib.pyplot as plt"
   ]
  },
  {
   "attachments": {},
   "cell_type": "markdown",
   "metadata": {},
   "source": [
    "### Welcome Messege"
   ]
  },
  {
   "cell_type": "code",
   "execution_count": 96,
   "metadata": {},
   "outputs": [
    {
     "name": "stdout",
     "output_type": "stream",
     "text": [
      "\n",
      "Hello! Let's explore some STC JAWWY TV data!\n",
      "\n"
     ]
    }
   ],
   "source": [
    "print('\\nHello! Let\\'s explore some STC JAWWY TV data!\\n')\n"
   ]
  },
  {
   "attachments": {},
   "cell_type": "markdown",
   "metadata": {},
   "source": [
    "### Loading Data"
   ]
  },
  {
   "cell_type": "code",
   "execution_count": 97,
   "metadata": {},
   "outputs": [
    {
     "data": {
      "text/html": [
       "<div>\n",
       "<style scoped>\n",
       "    .dataframe tbody tr th:only-of-type {\n",
       "        vertical-align: middle;\n",
       "    }\n",
       "\n",
       "    .dataframe tbody tr th {\n",
       "        vertical-align: top;\n",
       "    }\n",
       "\n",
       "    .dataframe thead th {\n",
       "        text-align: right;\n",
       "    }\n",
       "</style>\n",
       "<table border=\"1\" class=\"dataframe\">\n",
       "  <thead>\n",
       "    <tr style=\"text-align: right;\">\n",
       "      <th></th>\n",
       "      <th>Column1</th>\n",
       "      <th>date_</th>\n",
       "      <th>user_id_maped</th>\n",
       "      <th>program_name</th>\n",
       "      <th>duration_seconds</th>\n",
       "      <th>program_class</th>\n",
       "      <th>season</th>\n",
       "      <th>episode</th>\n",
       "      <th>program_desc</th>\n",
       "      <th>program_genre</th>\n",
       "      <th>series_title</th>\n",
       "      <th>hd</th>\n",
       "      <th>original_name</th>\n",
       "    </tr>\n",
       "  </thead>\n",
       "  <tbody>\n",
       "    <tr>\n",
       "      <th>0</th>\n",
       "      <td>1</td>\n",
       "      <td>5/27/2017</td>\n",
       "      <td>26138</td>\n",
       "      <td>100 treets</td>\n",
       "      <td>40</td>\n",
       "      <td>MOVIE</td>\n",
       "      <td>0</td>\n",
       "      <td>0</td>\n",
       "      <td>Drama Movie100 Streets</td>\n",
       "      <td>Drama</td>\n",
       "      <td>0</td>\n",
       "      <td>0</td>\n",
       "      <td>100 treets</td>\n",
       "    </tr>\n",
       "    <tr>\n",
       "      <th>1</th>\n",
       "      <td>3</td>\n",
       "      <td>5/21/2017</td>\n",
       "      <td>7946</td>\n",
       "      <td>Moana</td>\n",
       "      <td>17</td>\n",
       "      <td>MOVIE</td>\n",
       "      <td>0</td>\n",
       "      <td>0</td>\n",
       "      <td>Animation MovieMoana (HD)</td>\n",
       "      <td>Animation</td>\n",
       "      <td>0</td>\n",
       "      <td>1</td>\n",
       "      <td>Moana</td>\n",
       "    </tr>\n",
       "    <tr>\n",
       "      <th>2</th>\n",
       "      <td>4</td>\n",
       "      <td>8/10/2017</td>\n",
       "      <td>7418</td>\n",
       "      <td>The Mermaid Princess</td>\n",
       "      <td>8</td>\n",
       "      <td>MOVIE</td>\n",
       "      <td>0</td>\n",
       "      <td>0</td>\n",
       "      <td>Animation MovieThe Mermaid Princess (HD)</td>\n",
       "      <td>Animation</td>\n",
       "      <td>0</td>\n",
       "      <td>1</td>\n",
       "      <td>The Mermaid Princess</td>\n",
       "    </tr>\n",
       "    <tr>\n",
       "      <th>3</th>\n",
       "      <td>5</td>\n",
       "      <td>7/26/2017</td>\n",
       "      <td>19307</td>\n",
       "      <td>The Mermaid Princess</td>\n",
       "      <td>76</td>\n",
       "      <td>MOVIE</td>\n",
       "      <td>0</td>\n",
       "      <td>0</td>\n",
       "      <td>Animation MovieThe Mermaid Princess (HD)</td>\n",
       "      <td>Animation</td>\n",
       "      <td>0</td>\n",
       "      <td>1</td>\n",
       "      <td>The Mermaid Princess</td>\n",
       "    </tr>\n",
       "    <tr>\n",
       "      <th>4</th>\n",
       "      <td>7</td>\n",
       "      <td>7/7/2017</td>\n",
       "      <td>15860</td>\n",
       "      <td>Churchill</td>\n",
       "      <td>87</td>\n",
       "      <td>MOVIE</td>\n",
       "      <td>0</td>\n",
       "      <td>0</td>\n",
       "      <td>Biography MovieChurchill (HD)</td>\n",
       "      <td>Biography</td>\n",
       "      <td>0</td>\n",
       "      <td>1</td>\n",
       "      <td>Churchill</td>\n",
       "    </tr>\n",
       "  </tbody>\n",
       "</table>\n",
       "</div>"
      ],
      "text/plain": [
       "   Column1      date_  user_id_maped           program_name  duration_seconds  \\\n",
       "0        1  5/27/2017          26138             100 treets                40   \n",
       "1        3  5/21/2017           7946                 Moana                 17   \n",
       "2        4  8/10/2017           7418  The Mermaid Princess                  8   \n",
       "3        5  7/26/2017          19307  The Mermaid Princess                 76   \n",
       "4        7   7/7/2017          15860             Churchill                 87   \n",
       "\n",
       "  program_class  season  episode                              program_desc  \\\n",
       "0         MOVIE       0        0                    Drama Movie100 Streets   \n",
       "1         MOVIE       0        0                 Animation MovieMoana (HD)   \n",
       "2         MOVIE       0        0  Animation MovieThe Mermaid Princess (HD)   \n",
       "3         MOVIE       0        0  Animation MovieThe Mermaid Princess (HD)   \n",
       "4         MOVIE       0        0             Biography MovieChurchill (HD)   \n",
       "\n",
       "  program_genre  series_title  hd         original_name  \n",
       "0         Drama             0   0            100 treets  \n",
       "1     Animation             0   1                 Moana  \n",
       "2     Animation             0   1  The Mermaid Princess  \n",
       "3     Animation             0   1  The Mermaid Princess  \n",
       "4     Biography             0   1             Churchill  "
      ]
     },
     "execution_count": 97,
     "metadata": {},
     "output_type": "execute_result"
    }
   ],
   "source": [
    "# load data file into a dataframe\n",
    "df = pd.read_csv('STC_Jawwy_TV.csv')\n",
    "df.head(5)\n",
    "\n",
    "\n"
   ]
  },
  {
   "cell_type": "code",
   "execution_count": 98,
   "metadata": {},
   "outputs": [
    {
     "data": {
      "text/plain": [
       "Column1              int64\n",
       "date_               object\n",
       "user_id_maped        int64\n",
       "program_name        object\n",
       "duration_seconds     int64\n",
       "program_class       object\n",
       "season               int64\n",
       "episode              int64\n",
       "program_desc        object\n",
       "program_genre       object\n",
       "series_title         int64\n",
       "hd                   int64\n",
       "original_name       object\n",
       "dtype: object"
      ]
     },
     "execution_count": 98,
     "metadata": {},
     "output_type": "execute_result"
    }
   ],
   "source": [
    "df.dtypes"
   ]
  },
  {
   "attachments": {},
   "cell_type": "markdown",
   "metadata": {},
   "source": [
    "### Drop Columns"
   ]
  },
  {
   "cell_type": "code",
   "execution_count": 99,
   "metadata": {},
   "outputs": [
    {
     "data": {
      "text/html": [
       "<div>\n",
       "<style scoped>\n",
       "    .dataframe tbody tr th:only-of-type {\n",
       "        vertical-align: middle;\n",
       "    }\n",
       "\n",
       "    .dataframe tbody tr th {\n",
       "        vertical-align: top;\n",
       "    }\n",
       "\n",
       "    .dataframe thead th {\n",
       "        text-align: right;\n",
       "    }\n",
       "</style>\n",
       "<table border=\"1\" class=\"dataframe\">\n",
       "  <thead>\n",
       "    <tr style=\"text-align: right;\">\n",
       "      <th></th>\n",
       "      <th>date_</th>\n",
       "      <th>user_id_maped</th>\n",
       "      <th>program_name</th>\n",
       "      <th>duration_seconds</th>\n",
       "      <th>program_class</th>\n",
       "      <th>season</th>\n",
       "      <th>episode</th>\n",
       "      <th>program_genre</th>\n",
       "      <th>series_title</th>\n",
       "      <th>hd</th>\n",
       "    </tr>\n",
       "  </thead>\n",
       "  <tbody>\n",
       "    <tr>\n",
       "      <th>0</th>\n",
       "      <td>5/27/2017</td>\n",
       "      <td>26138</td>\n",
       "      <td>100 treets</td>\n",
       "      <td>40</td>\n",
       "      <td>MOVIE</td>\n",
       "      <td>0</td>\n",
       "      <td>0</td>\n",
       "      <td>Drama</td>\n",
       "      <td>0</td>\n",
       "      <td>0</td>\n",
       "    </tr>\n",
       "    <tr>\n",
       "      <th>1</th>\n",
       "      <td>5/21/2017</td>\n",
       "      <td>7946</td>\n",
       "      <td>Moana</td>\n",
       "      <td>17</td>\n",
       "      <td>MOVIE</td>\n",
       "      <td>0</td>\n",
       "      <td>0</td>\n",
       "      <td>Animation</td>\n",
       "      <td>0</td>\n",
       "      <td>1</td>\n",
       "    </tr>\n",
       "    <tr>\n",
       "      <th>2</th>\n",
       "      <td>8/10/2017</td>\n",
       "      <td>7418</td>\n",
       "      <td>The Mermaid Princess</td>\n",
       "      <td>8</td>\n",
       "      <td>MOVIE</td>\n",
       "      <td>0</td>\n",
       "      <td>0</td>\n",
       "      <td>Animation</td>\n",
       "      <td>0</td>\n",
       "      <td>1</td>\n",
       "    </tr>\n",
       "    <tr>\n",
       "      <th>3</th>\n",
       "      <td>7/26/2017</td>\n",
       "      <td>19307</td>\n",
       "      <td>The Mermaid Princess</td>\n",
       "      <td>76</td>\n",
       "      <td>MOVIE</td>\n",
       "      <td>0</td>\n",
       "      <td>0</td>\n",
       "      <td>Animation</td>\n",
       "      <td>0</td>\n",
       "      <td>1</td>\n",
       "    </tr>\n",
       "    <tr>\n",
       "      <th>4</th>\n",
       "      <td>7/7/2017</td>\n",
       "      <td>15860</td>\n",
       "      <td>Churchill</td>\n",
       "      <td>87</td>\n",
       "      <td>MOVIE</td>\n",
       "      <td>0</td>\n",
       "      <td>0</td>\n",
       "      <td>Biography</td>\n",
       "      <td>0</td>\n",
       "      <td>1</td>\n",
       "    </tr>\n",
       "  </tbody>\n",
       "</table>\n",
       "</div>"
      ],
      "text/plain": [
       "       date_  user_id_maped           program_name  duration_seconds  \\\n",
       "0  5/27/2017          26138             100 treets                40   \n",
       "1  5/21/2017           7946                 Moana                 17   \n",
       "2  8/10/2017           7418  The Mermaid Princess                  8   \n",
       "3  7/26/2017          19307  The Mermaid Princess                 76   \n",
       "4   7/7/2017          15860             Churchill                 87   \n",
       "\n",
       "  program_class  season  episode program_genre  series_title  hd  \n",
       "0         MOVIE       0        0         Drama             0   0  \n",
       "1         MOVIE       0        0     Animation             0   1  \n",
       "2         MOVIE       0        0     Animation             0   1  \n",
       "3         MOVIE       0        0     Animation             0   1  \n",
       "4         MOVIE       0        0     Biography             0   1  "
      ]
     },
     "execution_count": 99,
     "metadata": {},
     "output_type": "execute_result"
    }
   ],
   "source": [
    "df.drop(['Column1', 'program_desc', 'original_name'], axis = 1, inplace = True)\n",
    "\n",
    "df.head()"
   ]
  },
  {
   "attachments": {},
   "cell_type": "markdown",
   "metadata": {},
   "source": [
    "### Rename Columns"
   ]
  },
  {
   "cell_type": "code",
   "execution_count": 100,
   "metadata": {},
   "outputs": [
    {
     "data": {
      "text/html": [
       "<div>\n",
       "<style scoped>\n",
       "    .dataframe tbody tr th:only-of-type {\n",
       "        vertical-align: middle;\n",
       "    }\n",
       "\n",
       "    .dataframe tbody tr th {\n",
       "        vertical-align: top;\n",
       "    }\n",
       "\n",
       "    .dataframe thead th {\n",
       "        text-align: right;\n",
       "    }\n",
       "</style>\n",
       "<table border=\"1\" class=\"dataframe\">\n",
       "  <thead>\n",
       "    <tr style=\"text-align: right;\">\n",
       "      <th></th>\n",
       "      <th>Date</th>\n",
       "      <th>User ID</th>\n",
       "      <th>Program Name</th>\n",
       "      <th>Duration Seconds</th>\n",
       "      <th>Type</th>\n",
       "      <th>season</th>\n",
       "      <th>Episode</th>\n",
       "      <th>Genre</th>\n",
       "      <th>Series Title</th>\n",
       "      <th>HD</th>\n",
       "    </tr>\n",
       "  </thead>\n",
       "  <tbody>\n",
       "    <tr>\n",
       "      <th>0</th>\n",
       "      <td>5/27/2017</td>\n",
       "      <td>26138</td>\n",
       "      <td>100 treets</td>\n",
       "      <td>40</td>\n",
       "      <td>MOVIE</td>\n",
       "      <td>0</td>\n",
       "      <td>0</td>\n",
       "      <td>Drama</td>\n",
       "      <td>0</td>\n",
       "      <td>0</td>\n",
       "    </tr>\n",
       "    <tr>\n",
       "      <th>1</th>\n",
       "      <td>5/21/2017</td>\n",
       "      <td>7946</td>\n",
       "      <td>Moana</td>\n",
       "      <td>17</td>\n",
       "      <td>MOVIE</td>\n",
       "      <td>0</td>\n",
       "      <td>0</td>\n",
       "      <td>Animation</td>\n",
       "      <td>0</td>\n",
       "      <td>1</td>\n",
       "    </tr>\n",
       "    <tr>\n",
       "      <th>2</th>\n",
       "      <td>8/10/2017</td>\n",
       "      <td>7418</td>\n",
       "      <td>The Mermaid Princess</td>\n",
       "      <td>8</td>\n",
       "      <td>MOVIE</td>\n",
       "      <td>0</td>\n",
       "      <td>0</td>\n",
       "      <td>Animation</td>\n",
       "      <td>0</td>\n",
       "      <td>1</td>\n",
       "    </tr>\n",
       "    <tr>\n",
       "      <th>3</th>\n",
       "      <td>7/26/2017</td>\n",
       "      <td>19307</td>\n",
       "      <td>The Mermaid Princess</td>\n",
       "      <td>76</td>\n",
       "      <td>MOVIE</td>\n",
       "      <td>0</td>\n",
       "      <td>0</td>\n",
       "      <td>Animation</td>\n",
       "      <td>0</td>\n",
       "      <td>1</td>\n",
       "    </tr>\n",
       "    <tr>\n",
       "      <th>4</th>\n",
       "      <td>7/7/2017</td>\n",
       "      <td>15860</td>\n",
       "      <td>Churchill</td>\n",
       "      <td>87</td>\n",
       "      <td>MOVIE</td>\n",
       "      <td>0</td>\n",
       "      <td>0</td>\n",
       "      <td>Biography</td>\n",
       "      <td>0</td>\n",
       "      <td>1</td>\n",
       "    </tr>\n",
       "  </tbody>\n",
       "</table>\n",
       "</div>"
      ],
      "text/plain": [
       "        Date  User ID           Program Name  Duration Seconds   Type  season  \\\n",
       "0  5/27/2017    26138             100 treets                40  MOVIE       0   \n",
       "1  5/21/2017     7946                 Moana                 17  MOVIE       0   \n",
       "2  8/10/2017     7418  The Mermaid Princess                  8  MOVIE       0   \n",
       "3  7/26/2017    19307  The Mermaid Princess                 76  MOVIE       0   \n",
       "4   7/7/2017    15860             Churchill                 87  MOVIE       0   \n",
       "\n",
       "   Episode      Genre  Series Title  HD  \n",
       "0        0      Drama             0   0  \n",
       "1        0  Animation             0   1  \n",
       "2        0  Animation             0   1  \n",
       "3        0  Animation             0   1  \n",
       "4        0  Biography             0   1  "
      ]
     },
     "execution_count": 100,
     "metadata": {},
     "output_type": "execute_result"
    }
   ],
   "source": [
    "df = df.rename(columns={\"date_\":\"Date\",\"user_id_maped\":\"User ID\",\"program_name\":\"Program Name\",\"duration_seconds\":\"Duration Seconds\",\"program_class\":\"Type\",\n",
    "\"season  \":\"Season\",\"episode\":\"Episode\",\"program_genre\":\"Genre\",\"series_title\":\"Series Title\",\"hd\":\"HD\"})\n",
    "df.head()"
   ]
  },
  {
   "attachments": {},
   "cell_type": "markdown",
   "metadata": {},
   "source": [
    "### EDA"
   ]
  },
  {
   "cell_type": "code",
   "execution_count": 101,
   "metadata": {},
   "outputs": [
    {
     "data": {
      "text/plain": [
       "0"
      ]
     },
     "execution_count": 101,
     "metadata": {},
     "output_type": "execute_result"
    }
   ],
   "source": [
    "df.head(5), df.shape, df.info , df.describe\n",
    "nan_count = df.isna().sum().sum()\n",
    "nan_count "
   ]
  }
 ],
 "metadata": {
  "kernelspec": {
   "display_name": "base",
   "language": "python",
   "name": "python3"
  },
  "language_info": {
   "codemirror_mode": {
    "name": "ipython",
    "version": 3
   },
   "file_extension": ".py",
   "mimetype": "text/x-python",
   "name": "python",
   "nbconvert_exporter": "python",
   "pygments_lexer": "ipython3",
   "version": "3.9.15"
  },
  "orig_nbformat": 4,
  "vscode": {
   "interpreter": {
    "hash": "2a7afba27c518e8de91f0dcbbf52f585a98159ed07d23f137e86bc0c773efb76"
   }
  }
 },
 "nbformat": 4,
 "nbformat_minor": 2
}
